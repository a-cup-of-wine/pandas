{
 "cells": [
  {
   "cell_type": "code",
   "outputs": [],
   "source": [
    "# 导包\n",
    "import pandas as pd\n",
    "import numpy as np\n",
    "import re\n",
    "import os"
   ],
   "metadata": {
    "collapsed": false
   },
   "id": "34b82d0d78505ba3"
  },
  {
   "cell_type": "code",
   "outputs": [],
   "source": [
    "# 读取数据\n",
    "'''\n",
    "combined_df_11_29.csv 是从LIS表中提取的数据，共计43869行\n",
    "'''\n",
    "combined_df_11_29=pd.read_csv('combined_df_11_29.csv',dtype='str',index_col=0)\n",
    "print(combined_df_11_29.shape)\n",
    "combined_df_11_29.head()"
   ],
   "metadata": {
    "collapsed": false
   },
   "id": "34c032f59b437a16"
  },
  {
   "cell_type": "code",
   "execution_count": 3,
   "id": "6ce7c39bfdfc1826",
   "metadata": {
    "ExecuteTime": {
     "end_time": "2024-01-10T14:30:41.118872547Z",
     "start_time": "2024-01-10T14:30:41.091214053Z"
    },
    "collapsed": false
   },
   "outputs": [
    {
     "data": {
      "text/plain": [
       "登记号             0\n",
       "患者姓名            0\n",
       "检验日期            0\n",
       "CEA         32736\n",
       "AFP         32982\n",
       "CA125       25448\n",
       "SCC         39214\n",
       "HE4         41832\n",
       "HGB          6085\n",
       "PLT          6084\n",
       "NEUT         6086\n",
       "NEUT%        6086\n",
       "LYMPH        6086\n",
       "LYMPH%       6086\n",
       "MONO         6086\n",
       "MONO%        6086\n",
       "TT          15787\n",
       "Fg          16207\n",
       "ALT         21130\n",
       "AST         21130\n",
       "TB          21130\n",
       "ALB         21130\n",
       "Urea        21130\n",
       "Cr          21130\n",
       "LDH         21127\n",
       "PAT-PT      21454\n",
       "PAT-APPT    21456\n",
       "CA153       43869\n",
       "CA199       43869\n",
       "ThCG        43869\n",
       "dtype: int64"
      ]
     },
     "execution_count": 3,
     "metadata": {},
     "output_type": "execute_result"
    }
   ],
   "source": [
    "# 查看缺失值相关信息\n",
    "\n",
    "combined_df_11_29.isna().sum()"
   ]
  },
  {
   "cell_type": "code",
   "execution_count": 4,
   "id": "9d6ccef7dcf27106",
   "metadata": {
    "ExecuteTime": {
     "end_time": "2024-01-10T14:30:43.074272988Z",
     "start_time": "2024-01-10T14:30:43.068366547Z"
    },
    "collapsed": false
   },
   "outputs": [],
   "source": [
    "'''\n",
    "ca153 ca199 thcg  没有数据，故删除这些列\n",
    "'''\n",
    "combined_df_11_29.drop(['CA153', 'CA199','ThCG'], axis=1, inplace=True)"
   ]
  },
  {
   "cell_type": "code",
   "execution_count": 5,
   "id": "7ed28c8d00933758",
   "metadata": {
    "ExecuteTime": {
     "end_time": "2024-01-10T14:30:47.635294479Z",
     "start_time": "2024-01-10T14:30:47.620823514Z"
    },
    "collapsed": false
   },
   "outputs": [
    {
     "name": "stdout",
     "output_type": "stream",
     "text": [
      "(2422, 9)\n"
     ]
    },
    {
     "data": {
      "text/html": [
       "<div>\n",
       "<style scoped>\n",
       "    .dataframe tbody tr th:only-of-type {\n",
       "        vertical-align: middle;\n",
       "    }\n",
       "\n",
       "    .dataframe tbody tr th {\n",
       "        vertical-align: top;\n",
       "    }\n",
       "\n",
       "    .dataframe thead th {\n",
       "        text-align: right;\n",
       "    }\n",
       "</style>\n",
       "<table border=\"1\" class=\"dataframe\">\n",
       "  <thead>\n",
       "    <tr style=\"text-align: right;\">\n",
       "      <th></th>\n",
       "      <th>登记号</th>\n",
       "      <th>检验日期</th>\n",
       "      <th>CEA</th>\n",
       "      <th>CA125</th>\n",
       "      <th>HE4</th>\n",
       "      <th>SCC</th>\n",
       "      <th>AFP</th>\n",
       "      <th>PAT-APPT</th>\n",
       "      <th>HGB</th>\n",
       "    </tr>\n",
       "  </thead>\n",
       "  <tbody>\n",
       "    <tr>\n",
       "      <th>174</th>\n",
       "      <td>00030541</td>\n",
       "      <td>2019-03-11</td>\n",
       "      <td>&lt;0.5</td>\n",
       "      <td>10.5</td>\n",
       "      <td>NaN</td>\n",
       "      <td>0.80</td>\n",
       "      <td>NaN</td>\n",
       "      <td>NaN</td>\n",
       "      <td>133</td>\n",
       "    </tr>\n",
       "    <tr>\n",
       "      <th>185</th>\n",
       "      <td>00031780</td>\n",
       "      <td>2020-06-06</td>\n",
       "      <td>0.7</td>\n",
       "      <td>19.7</td>\n",
       "      <td>NaN</td>\n",
       "      <td>10.30</td>\n",
       "      <td>5.8</td>\n",
       "      <td>NaN</td>\n",
       "      <td>65</td>\n",
       "    </tr>\n",
       "    <tr>\n",
       "      <th>186</th>\n",
       "      <td>00031780</td>\n",
       "      <td>2020-08-17</td>\n",
       "      <td>NaN</td>\n",
       "      <td>10.7</td>\n",
       "      <td>NaN</td>\n",
       "      <td>17.90</td>\n",
       "      <td>NaN</td>\n",
       "      <td>23.1</td>\n",
       "      <td>69</td>\n",
       "    </tr>\n",
       "    <tr>\n",
       "      <th>188</th>\n",
       "      <td>00031780</td>\n",
       "      <td>2020-10-19</td>\n",
       "      <td>&lt;0.5</td>\n",
       "      <td>14.3</td>\n",
       "      <td>NaN</td>\n",
       "      <td>1.90</td>\n",
       "      <td>5.4</td>\n",
       "      <td>NaN</td>\n",
       "      <td>77</td>\n",
       "    </tr>\n",
       "    <tr>\n",
       "      <th>191</th>\n",
       "      <td>00031780</td>\n",
       "      <td>2021-02-26</td>\n",
       "      <td>NaN</td>\n",
       "      <td>16.5</td>\n",
       "      <td>NaN</td>\n",
       "      <td>1.10</td>\n",
       "      <td>NaN</td>\n",
       "      <td>24.0</td>\n",
       "      <td>97</td>\n",
       "    </tr>\n",
       "  </tbody>\n",
       "</table>\n",
       "</div>"
      ],
      "text/plain": [
       "          登记号        检验日期   CEA CA125  HE4    SCC  AFP PAT-APPT  HGB\n",
       "174  00030541  2019-03-11  <0.5  10.5  NaN   0.80  NaN      NaN  133\n",
       "185  00031780  2020-06-06   0.7  19.7  NaN  10.30  5.8      NaN   65\n",
       "186  00031780  2020-08-17   NaN  10.7  NaN  17.90  NaN     23.1   69\n",
       "188  00031780  2020-10-19  <0.5  14.3  NaN   1.90  5.4      NaN   77\n",
       "191  00031780  2021-02-26   NaN  16.5  NaN   1.10  NaN     24.0   97"
      ]
     },
     "execution_count": 5,
     "metadata": {},
     "output_type": "execute_result"
    }
   ],
   "source": [
    "# 删除缺失值过多的行\n",
    "# data=combined_df_11_29[~combined_df_11_29['HE4'].isna()].dropna(thresh=15).copy()\n",
    "data=combined_df_11_29[['登记号','检验日期','CEA','CA125','HE4','SCC','AFP','PAT-APPT','HGB']].dropna(thresh=6).copy()\n",
    "data=data[~data['HE4'].isna() | ~data['SCC'].isna()]\n",
    "print(data.shape)\n",
    "data.head()"
   ]
  },
  {
   "cell_type": "code",
   "execution_count": 6,
   "id": "1db92e107cfa69ea",
   "metadata": {
    "ExecuteTime": {
     "end_time": "2024-01-10T14:30:50.208952376Z",
     "start_time": "2024-01-10T14:30:50.139710248Z"
    },
    "collapsed": false
   },
   "outputs": [
    {
     "data": {
      "text/plain": [
       "诊断内容\n",
       "子宫平滑肌瘤        19530\n",
       "子宫多发性平滑肌瘤      8757\n",
       "子宫肌壁间平滑肌瘤      3094\n",
       "子宫粘膜下平滑肌瘤      1372\n",
       "子宫浆膜下平滑肌瘤       871\n",
       "妊娠合并子宫肌瘤        759\n",
       "子宫粘膜下肌瘤         379\n",
       "子宫浆膜下肌瘤         234\n",
       "子宫黏膜下平滑肌瘤       181\n",
       "子宫肌壁间肌瘤          98\n",
       "子宫壁内平滑肌瘤         64\n",
       "子宫颈平滑肌瘤          44\n",
       "子宫颈粘膜下平滑肌瘤       40\n",
       "子宫内膜间质肉瘤         32\n",
       "子宫浆膜下层平滑肌瘤       12\n",
       "子宫平滑肌肉瘤           9\n",
       "子宫癌肉瘤             8\n",
       "子宫颈壁内平滑肌瘤         5\n",
       "子宫腺肉瘤             4\n",
       "Name: count, dtype: int64"
      ]
     },
     "execution_count": 6,
     "metadata": {},
     "output_type": "execute_result"
    }
   ],
   "source": [
    "# 给这些数据打标签\n",
    "# 读取病案数据\n",
    "medical_record_1=pd.read_csv('medical_record_1.csv',dtype='str',index_col=0)\n",
    "medical_record_1.dropna(subset=['诊断内容','入院时间'],inplace=True)\n",
    "medical_record_1['诊断内容'].value_counts()"
   ]
  },
  {
   "cell_type": "code",
   "execution_count": 7,
   "id": "ba5d85e06644b4cf",
   "metadata": {
    "ExecuteTime": {
     "end_time": "2024-01-10T14:30:52.698114942Z",
     "start_time": "2024-01-10T14:30:52.694063441Z"
    },
    "collapsed": false
   },
   "outputs": [
    {
     "data": {
      "text/html": [
       "<div>\n",
       "<style scoped>\n",
       "    .dataframe tbody tr th:only-of-type {\n",
       "        vertical-align: middle;\n",
       "    }\n",
       "\n",
       "    .dataframe tbody tr th {\n",
       "        vertical-align: top;\n",
       "    }\n",
       "\n",
       "    .dataframe thead th {\n",
       "        text-align: right;\n",
       "    }\n",
       "</style>\n",
       "<table border=\"1\" class=\"dataframe\">\n",
       "  <thead>\n",
       "    <tr style=\"text-align: right;\">\n",
       "      <th></th>\n",
       "      <th>患者登记号</th>\n",
       "      <th>诊断内容</th>\n",
       "      <th>入院时间</th>\n",
       "    </tr>\n",
       "  </thead>\n",
       "  <tbody>\n",
       "    <tr>\n",
       "      <th>26</th>\n",
       "      <td>08510228</td>\n",
       "      <td>子宫平滑肌瘤</td>\n",
       "      <td>2020-03-03 00:00:00</td>\n",
       "    </tr>\n",
       "    <tr>\n",
       "      <th>31</th>\n",
       "      <td>00658475</td>\n",
       "      <td>子宫平滑肌瘤</td>\n",
       "      <td>2016-03-31 00:00:00</td>\n",
       "    </tr>\n",
       "    <tr>\n",
       "      <th>33</th>\n",
       "      <td>09210521</td>\n",
       "      <td>子宫多发性平滑肌瘤</td>\n",
       "      <td>2019-01-18 00:00:00</td>\n",
       "    </tr>\n",
       "    <tr>\n",
       "      <th>38</th>\n",
       "      <td>00846704</td>\n",
       "      <td>子宫平滑肌瘤</td>\n",
       "      <td>2016-06-02 00:00:00</td>\n",
       "    </tr>\n",
       "    <tr>\n",
       "      <th>41</th>\n",
       "      <td>03625496</td>\n",
       "      <td>子宫多发性平滑肌瘤</td>\n",
       "      <td>2018-08-18 00:00:00</td>\n",
       "    </tr>\n",
       "  </tbody>\n",
       "</table>\n",
       "</div>"
      ],
      "text/plain": [
       "       患者登记号       诊断内容                 入院时间\n",
       "26  08510228     子宫平滑肌瘤  2020-03-03 00:00:00\n",
       "31  00658475     子宫平滑肌瘤  2016-03-31 00:00:00\n",
       "33  09210521  子宫多发性平滑肌瘤  2019-01-18 00:00:00\n",
       "38  00846704     子宫平滑肌瘤  2016-06-02 00:00:00\n",
       "41  03625496  子宫多发性平滑肌瘤  2018-08-18 00:00:00"
      ]
     },
     "execution_count": 7,
     "metadata": {},
     "output_type": "execute_result"
    }
   ],
   "source": [
    "diagnose=medical_record_1.loc[:,['患者登记号','诊断内容','入院时间']].copy()\n",
    "diagnose.head()"
   ]
  },
  {
   "cell_type": "code",
   "execution_count": 8,
   "id": "c2137150de51eb2f",
   "metadata": {
    "ExecuteTime": {
     "end_time": "2024-01-10T14:30:54.391444354Z",
     "start_time": "2024-01-10T14:30:54.368364978Z"
    },
    "collapsed": false
   },
   "outputs": [
    {
     "name": "stdout",
     "output_type": "stream",
     "text": [
      "(1160, 12)\n"
     ]
    },
    {
     "data": {
      "text/html": [
       "<div>\n",
       "<style scoped>\n",
       "    .dataframe tbody tr th:only-of-type {\n",
       "        vertical-align: middle;\n",
       "    }\n",
       "\n",
       "    .dataframe tbody tr th {\n",
       "        vertical-align: top;\n",
       "    }\n",
       "\n",
       "    .dataframe thead th {\n",
       "        text-align: right;\n",
       "    }\n",
       "</style>\n",
       "<table border=\"1\" class=\"dataframe\">\n",
       "  <thead>\n",
       "    <tr style=\"text-align: right;\">\n",
       "      <th></th>\n",
       "      <th>登记号</th>\n",
       "      <th>检验日期</th>\n",
       "      <th>CEA</th>\n",
       "      <th>CA125</th>\n",
       "      <th>HE4</th>\n",
       "      <th>SCC</th>\n",
       "      <th>AFP</th>\n",
       "      <th>PAT-APPT</th>\n",
       "      <th>HGB</th>\n",
       "      <th>患者登记号</th>\n",
       "      <th>诊断内容</th>\n",
       "      <th>入院时间</th>\n",
       "    </tr>\n",
       "  </thead>\n",
       "  <tbody>\n",
       "    <tr>\n",
       "      <th>0</th>\n",
       "      <td>00032328</td>\n",
       "      <td>2019-04-01</td>\n",
       "      <td>&lt;0.5</td>\n",
       "      <td>18.6</td>\n",
       "      <td>NaN</td>\n",
       "      <td>1.80</td>\n",
       "      <td>NaN</td>\n",
       "      <td>NaN</td>\n",
       "      <td>110</td>\n",
       "      <td>00032328</td>\n",
       "      <td>子宫多发性平滑肌瘤</td>\n",
       "      <td>2019-05-29 00:00:00</td>\n",
       "    </tr>\n",
       "    <tr>\n",
       "      <th>1</th>\n",
       "      <td>00032328</td>\n",
       "      <td>2019-04-01</td>\n",
       "      <td>&lt;0.5</td>\n",
       "      <td>18.6</td>\n",
       "      <td>NaN</td>\n",
       "      <td>1.80</td>\n",
       "      <td>NaN</td>\n",
       "      <td>NaN</td>\n",
       "      <td>110</td>\n",
       "      <td>00032328</td>\n",
       "      <td>子宫多发性平滑肌瘤</td>\n",
       "      <td>2019-05-20 00:00:00</td>\n",
       "    </tr>\n",
       "    <tr>\n",
       "      <th>2</th>\n",
       "      <td>00032328</td>\n",
       "      <td>2019-09-04</td>\n",
       "      <td>&lt;0.5</td>\n",
       "      <td>12.2</td>\n",
       "      <td>NaN</td>\n",
       "      <td>1.00</td>\n",
       "      <td>NaN</td>\n",
       "      <td>NaN</td>\n",
       "      <td>133</td>\n",
       "      <td>00032328</td>\n",
       "      <td>子宫多发性平滑肌瘤</td>\n",
       "      <td>2019-05-29 00:00:00</td>\n",
       "    </tr>\n",
       "    <tr>\n",
       "      <th>3</th>\n",
       "      <td>00032328</td>\n",
       "      <td>2019-09-04</td>\n",
       "      <td>&lt;0.5</td>\n",
       "      <td>12.2</td>\n",
       "      <td>NaN</td>\n",
       "      <td>1.00</td>\n",
       "      <td>NaN</td>\n",
       "      <td>NaN</td>\n",
       "      <td>133</td>\n",
       "      <td>00032328</td>\n",
       "      <td>子宫多发性平滑肌瘤</td>\n",
       "      <td>2019-05-20 00:00:00</td>\n",
       "    </tr>\n",
       "    <tr>\n",
       "      <th>4</th>\n",
       "      <td>00057251</td>\n",
       "      <td>2020-12-14</td>\n",
       "      <td>&lt;0.5</td>\n",
       "      <td>27.0</td>\n",
       "      <td>31.1</td>\n",
       "      <td>1.00</td>\n",
       "      <td>&lt;1.3</td>\n",
       "      <td>NaN</td>\n",
       "      <td>NaN</td>\n",
       "      <td>00057251</td>\n",
       "      <td>子宫平滑肌瘤</td>\n",
       "      <td>2021-03-16 00:00:00</td>\n",
       "    </tr>\n",
       "    <tr>\n",
       "      <th>...</th>\n",
       "      <td>...</td>\n",
       "      <td>...</td>\n",
       "      <td>...</td>\n",
       "      <td>...</td>\n",
       "      <td>...</td>\n",
       "      <td>...</td>\n",
       "      <td>...</td>\n",
       "      <td>...</td>\n",
       "      <td>...</td>\n",
       "      <td>...</td>\n",
       "      <td>...</td>\n",
       "      <td>...</td>\n",
       "    </tr>\n",
       "    <tr>\n",
       "      <th>1155</th>\n",
       "      <td>22068410</td>\n",
       "      <td>2023-06-27</td>\n",
       "      <td>1.8</td>\n",
       "      <td>1180.7</td>\n",
       "      <td>38.0</td>\n",
       "      <td>NaN</td>\n",
       "      <td>2.4</td>\n",
       "      <td>NaN</td>\n",
       "      <td>94</td>\n",
       "      <td>22068410</td>\n",
       "      <td>子宫平滑肌瘤</td>\n",
       "      <td>2023-07-04 00:00:00</td>\n",
       "    </tr>\n",
       "    <tr>\n",
       "      <th>1156</th>\n",
       "      <td>22068410</td>\n",
       "      <td>2023-08-16</td>\n",
       "      <td>NaN</td>\n",
       "      <td>57.0</td>\n",
       "      <td>41.8</td>\n",
       "      <td>NaN</td>\n",
       "      <td>NaN</td>\n",
       "      <td>24.5</td>\n",
       "      <td>117</td>\n",
       "      <td>22068410</td>\n",
       "      <td>子宫平滑肌瘤</td>\n",
       "      <td>2023-07-04 00:00:00</td>\n",
       "    </tr>\n",
       "    <tr>\n",
       "      <th>1157</th>\n",
       "      <td>22079998</td>\n",
       "      <td>2023-08-28</td>\n",
       "      <td>1.5</td>\n",
       "      <td>13.7</td>\n",
       "      <td>NaN</td>\n",
       "      <td>0.70</td>\n",
       "      <td>&lt;1.3</td>\n",
       "      <td>27.3</td>\n",
       "      <td>140</td>\n",
       "      <td>22079998</td>\n",
       "      <td>子宫多发性平滑肌瘤</td>\n",
       "      <td>2023-08-28 00:00:00</td>\n",
       "    </tr>\n",
       "    <tr>\n",
       "      <th>1158</th>\n",
       "      <td>22092842</td>\n",
       "      <td>2023-07-20</td>\n",
       "      <td>1.2</td>\n",
       "      <td>11.2</td>\n",
       "      <td>28.2</td>\n",
       "      <td>NaN</td>\n",
       "      <td>2.3</td>\n",
       "      <td>NaN</td>\n",
       "      <td>125</td>\n",
       "      <td>22092842</td>\n",
       "      <td>子宫多发性平滑肌瘤</td>\n",
       "      <td>2023-07-31 00:00:00</td>\n",
       "    </tr>\n",
       "    <tr>\n",
       "      <th>1159</th>\n",
       "      <td>22140673</td>\n",
       "      <td>2023-08-09</td>\n",
       "      <td>1.6</td>\n",
       "      <td>32.8</td>\n",
       "      <td>45.1</td>\n",
       "      <td>NaN</td>\n",
       "      <td>3.4</td>\n",
       "      <td>NaN</td>\n",
       "      <td>141</td>\n",
       "      <td>22140673</td>\n",
       "      <td>子宫平滑肌瘤</td>\n",
       "      <td>2023-09-05 00:00:00</td>\n",
       "    </tr>\n",
       "  </tbody>\n",
       "</table>\n",
       "<p>1160 rows × 12 columns</p>\n",
       "</div>"
      ],
      "text/plain": [
       "           登记号        检验日期   CEA   CA125   HE4   SCC   AFP PAT-APPT  HGB  \\\n",
       "0     00032328  2019-04-01  <0.5    18.6   NaN  1.80   NaN      NaN  110   \n",
       "1     00032328  2019-04-01  <0.5    18.6   NaN  1.80   NaN      NaN  110   \n",
       "2     00032328  2019-09-04  <0.5    12.2   NaN  1.00   NaN      NaN  133   \n",
       "3     00032328  2019-09-04  <0.5    12.2   NaN  1.00   NaN      NaN  133   \n",
       "4     00057251  2020-12-14  <0.5    27.0  31.1  1.00  <1.3      NaN  NaN   \n",
       "...        ...         ...   ...     ...   ...   ...   ...      ...  ...   \n",
       "1155  22068410  2023-06-27   1.8  1180.7  38.0   NaN   2.4      NaN   94   \n",
       "1156  22068410  2023-08-16   NaN    57.0  41.8   NaN   NaN     24.5  117   \n",
       "1157  22079998  2023-08-28   1.5    13.7   NaN  0.70  <1.3     27.3  140   \n",
       "1158  22092842  2023-07-20   1.2    11.2  28.2   NaN   2.3      NaN  125   \n",
       "1159  22140673  2023-08-09   1.6    32.8  45.1   NaN   3.4      NaN  141   \n",
       "\n",
       "         患者登记号       诊断内容                 入院时间  \n",
       "0     00032328  子宫多发性平滑肌瘤  2019-05-29 00:00:00  \n",
       "1     00032328  子宫多发性平滑肌瘤  2019-05-20 00:00:00  \n",
       "2     00032328  子宫多发性平滑肌瘤  2019-05-29 00:00:00  \n",
       "3     00032328  子宫多发性平滑肌瘤  2019-05-20 00:00:00  \n",
       "4     00057251     子宫平滑肌瘤  2021-03-16 00:00:00  \n",
       "...        ...        ...                  ...  \n",
       "1155  22068410     子宫平滑肌瘤  2023-07-04 00:00:00  \n",
       "1156  22068410     子宫平滑肌瘤  2023-07-04 00:00:00  \n",
       "1157  22079998  子宫多发性平滑肌瘤  2023-08-28 00:00:00  \n",
       "1158  22092842  子宫多发性平滑肌瘤  2023-07-31 00:00:00  \n",
       "1159  22140673     子宫平滑肌瘤  2023-09-05 00:00:00  \n",
       "\n",
       "[1160 rows x 12 columns]"
      ]
     },
     "execution_count": 8,
     "metadata": {},
     "output_type": "execute_result"
    }
   ],
   "source": [
    "merged_df=pd.merge(data,diagnose,left_on='登记号',right_on='患者登记号')\n",
    "print(merged_df.shape)\n",
    "merged_df"
   ]
  },
  {
   "cell_type": "code",
   "execution_count": 9,
   "id": "eee3b60922f861af",
   "metadata": {
    "ExecuteTime": {
     "end_time": "2024-01-10T14:30:57.611216456Z",
     "start_time": "2024-01-10T14:30:57.608727435Z"
    },
    "collapsed": false
   },
   "outputs": [],
   "source": [
    "# 保留入院时间和检验日期相差30天以内的行\n",
    "merged_df['检验日期']=pd.to_datetime(merged_df['检验日期'],format='%Y-%m-%d')\n",
    "merged_df['入院时间']=pd.to_datetime(merged_df['入院时间'].str.split().str[0],format='%Y-%m-%d')"
   ]
  },
  {
   "cell_type": "code",
   "execution_count": 10,
   "id": "a88cd6dc4811775f",
   "metadata": {
    "ExecuteTime": {
     "end_time": "2024-01-10T14:30:58.413676584Z",
     "start_time": "2024-01-10T14:30:58.402806957Z"
    },
    "collapsed": false
   },
   "outputs": [
    {
     "name": "stdout",
     "output_type": "stream",
     "text": [
      "(765, 12)\n"
     ]
    },
    {
     "data": {
      "text/html": [
       "<div>\n",
       "<style scoped>\n",
       "    .dataframe tbody tr th:only-of-type {\n",
       "        vertical-align: middle;\n",
       "    }\n",
       "\n",
       "    .dataframe tbody tr th {\n",
       "        vertical-align: top;\n",
       "    }\n",
       "\n",
       "    .dataframe thead th {\n",
       "        text-align: right;\n",
       "    }\n",
       "</style>\n",
       "<table border=\"1\" class=\"dataframe\">\n",
       "  <thead>\n",
       "    <tr style=\"text-align: right;\">\n",
       "      <th></th>\n",
       "      <th>登记号</th>\n",
       "      <th>检验日期</th>\n",
       "      <th>CEA</th>\n",
       "      <th>CA125</th>\n",
       "      <th>HE4</th>\n",
       "      <th>SCC</th>\n",
       "      <th>AFP</th>\n",
       "      <th>PAT-APPT</th>\n",
       "      <th>HGB</th>\n",
       "      <th>患者登记号</th>\n",
       "      <th>诊断内容</th>\n",
       "      <th>入院时间</th>\n",
       "    </tr>\n",
       "  </thead>\n",
       "  <tbody>\n",
       "    <tr>\n",
       "      <th>0</th>\n",
       "      <td>00032328</td>\n",
       "      <td>2019-04-01</td>\n",
       "      <td>&lt;0.5</td>\n",
       "      <td>18.6</td>\n",
       "      <td>NaN</td>\n",
       "      <td>1.80</td>\n",
       "      <td>NaN</td>\n",
       "      <td>NaN</td>\n",
       "      <td>110</td>\n",
       "      <td>00032328</td>\n",
       "      <td>子宫多发性平滑肌瘤</td>\n",
       "      <td>2019-05-29</td>\n",
       "    </tr>\n",
       "    <tr>\n",
       "      <th>1</th>\n",
       "      <td>00032328</td>\n",
       "      <td>2019-04-01</td>\n",
       "      <td>&lt;0.5</td>\n",
       "      <td>18.6</td>\n",
       "      <td>NaN</td>\n",
       "      <td>1.80</td>\n",
       "      <td>NaN</td>\n",
       "      <td>NaN</td>\n",
       "      <td>110</td>\n",
       "      <td>00032328</td>\n",
       "      <td>子宫多发性平滑肌瘤</td>\n",
       "      <td>2019-05-20</td>\n",
       "    </tr>\n",
       "    <tr>\n",
       "      <th>2</th>\n",
       "      <td>00032328</td>\n",
       "      <td>2019-09-04</td>\n",
       "      <td>&lt;0.5</td>\n",
       "      <td>12.2</td>\n",
       "      <td>NaN</td>\n",
       "      <td>1.00</td>\n",
       "      <td>NaN</td>\n",
       "      <td>NaN</td>\n",
       "      <td>133</td>\n",
       "      <td>00032328</td>\n",
       "      <td>子宫多发性平滑肌瘤</td>\n",
       "      <td>2019-05-29</td>\n",
       "    </tr>\n",
       "    <tr>\n",
       "      <th>3</th>\n",
       "      <td>00032328</td>\n",
       "      <td>2019-09-04</td>\n",
       "      <td>&lt;0.5</td>\n",
       "      <td>12.2</td>\n",
       "      <td>NaN</td>\n",
       "      <td>1.00</td>\n",
       "      <td>NaN</td>\n",
       "      <td>NaN</td>\n",
       "      <td>133</td>\n",
       "      <td>00032328</td>\n",
       "      <td>子宫多发性平滑肌瘤</td>\n",
       "      <td>2019-05-20</td>\n",
       "    </tr>\n",
       "    <tr>\n",
       "      <th>4</th>\n",
       "      <td>00057251</td>\n",
       "      <td>2020-12-14</td>\n",
       "      <td>&lt;0.5</td>\n",
       "      <td>27.0</td>\n",
       "      <td>31.1</td>\n",
       "      <td>1.00</td>\n",
       "      <td>&lt;1.3</td>\n",
       "      <td>NaN</td>\n",
       "      <td>NaN</td>\n",
       "      <td>00057251</td>\n",
       "      <td>子宫平滑肌瘤</td>\n",
       "      <td>2021-03-16</td>\n",
       "    </tr>\n",
       "  </tbody>\n",
       "</table>\n",
       "</div>"
      ],
      "text/plain": [
       "        登记号       检验日期   CEA CA125   HE4   SCC   AFP PAT-APPT  HGB     患者登记号  \\\n",
       "0  00032328 2019-04-01  <0.5  18.6   NaN  1.80   NaN      NaN  110  00032328   \n",
       "1  00032328 2019-04-01  <0.5  18.6   NaN  1.80   NaN      NaN  110  00032328   \n",
       "2  00032328 2019-09-04  <0.5  12.2   NaN  1.00   NaN      NaN  133  00032328   \n",
       "3  00032328 2019-09-04  <0.5  12.2   NaN  1.00   NaN      NaN  133  00032328   \n",
       "4  00057251 2020-12-14  <0.5  27.0  31.1  1.00  <1.3      NaN  NaN  00057251   \n",
       "\n",
       "        诊断内容       入院时间  \n",
       "0  子宫多发性平滑肌瘤 2019-05-29  \n",
       "1  子宫多发性平滑肌瘤 2019-05-20  \n",
       "2  子宫多发性平滑肌瘤 2019-05-29  \n",
       "3  子宫多发性平滑肌瘤 2019-05-20  \n",
       "4     子宫平滑肌瘤 2021-03-16  "
      ]
     },
     "execution_count": 10,
     "metadata": {},
     "output_type": "execute_result"
    }
   ],
   "source": [
    "# 检验日期与入院时间匹配\n",
    "merged_df_1=merged_df[abs(merged_df['检验日期']-merged_df['入院时间']).dt.days<280].copy()\n",
    "print(merged_df_1.shape)\n",
    "merged_df_1.head()"
   ]
  },
  {
   "cell_type": "code",
   "execution_count": 11,
   "id": "2cce1f695a0d17f7",
   "metadata": {
    "ExecuteTime": {
     "end_time": "2024-01-10T14:30:59.587147452Z",
     "start_time": "2024-01-10T14:30:59.581302003Z"
    },
    "collapsed": false
   },
   "outputs": [],
   "source": [
    "# 将特征列的数据转换成数值类型\n",
    "merged_df_1['CEA'].replace(['<0.5','未做','<0.0'],['0.4',np.NAN,0],inplace=True)\n",
    "merged_df_1['CEA']=pd.to_numeric(merged_df_1['CEA'])\n",
    "merged_df_1['AFP'].replace(['<1.3','未做'],[1,np.NAN],inplace=True)\n",
    "merged_df_1['AFP']=pd.to_numeric(merged_df_1['AFP'])\n",
    "merged_df_1['CA125'].replace(['<2.0','未做','>12000.0'],[1,np.NAN,12000],inplace=True)\n",
    "merged_df_1['CA125']=pd.to_numeric(merged_df_1['CA125'])\n",
    "# merged_df_1['HGB']=pd.to_numeric(merged_df_1['HGB'])\n",
    "# merged_df_1['PLT']=pd.to_numeric(merged_df_1['PLT'])\n",
    "# merged_df_1['NEUT']=pd.to_numeric(merged_df_1['NEUT'])\n",
    "# merged_df_1['NEUT%']=pd.to_numeric(merged_df_1['NEUT%'])\n",
    "# merged_df_1['LYMPH']=pd.to_numeric(merged_df_1['LYMPH'])\n",
    "# merged_df_1['LYMPH%']=pd.to_numeric(merged_df_1['LYMPH%'])\n",
    "# merged_df_1['MONO']=pd.to_numeric(merged_df_1['MONO'])\n",
    "# merged_df_1['MONO%']=pd.to_numeric(merged_df_1['MONO%'])\n",
    "# merged_df_1['TT'].replace(['<1.3','未做'],[1,np.NAN],inplace=True)\n",
    "# merged_df_1['TT']=pd.to_numeric(merged_df_1['TT'])\n",
    "merged_df_1.replace(['未做','已上机'],np.NAN,inplace=True)\n",
    "# merged_df_1['Fg']=pd.to_numeric(merged_df_1['Fg'])\n",
    "# merged_df_1['ALT'].replace(['<8','<7','<6','<9','已上机'],[7,6,5,8,np.NAN],inplace=True)\n",
    "# merged_df_1['ALT']=pd.to_numeric(merged_df_1['ALT'])\n",
    "# merged_df_1['AST'].replace(['<8','<3','已上机'],[7,2,np.NAN],inplace=True)\n",
    "# merged_df_1['AST']=pd.to_numeric(merged_df_1['AST'])\n",
    "# merged_df_1['TB']=pd.to_numeric(merged_df_1['TB'])\n",
    "# merged_df_1['ALB']=pd.to_numeric(merged_df_1['ALB'])\n",
    "# merged_df_1['Urea'].replace(['<1.80','<1.40'],[1.7,1.3],inplace=True)\n",
    "# merged_df_1['Urea']=pd.to_numeric(merged_df_1['Urea'])\n",
    "merged_df_1['HE4'].replace(['>7500.0','>15000.0'],[7500,15000],inplace=True)\n",
    "merged_df_1['HE4']=pd.to_numeric(merged_df_1['HE4'])\n",
    "merged_df_1.replace('<0.5',0.3,inplace=True)"
   ]
  },
  {
   "cell_type": "code",
   "execution_count": 12,
   "id": "32444836fecd1a3c",
   "metadata": {
    "ExecuteTime": {
     "end_time": "2024-01-10T14:31:29.719724130Z",
     "start_time": "2024-01-10T14:31:29.717483877Z"
    },
    "collapsed": false
   },
   "outputs": [
    {
     "data": {
      "text/plain": [
       "登记号           0\n",
       "检验日期          0\n",
       "CEA         162\n",
       "CA125         5\n",
       "HE4         366\n",
       "SCC         336\n",
       "AFP         279\n",
       "PAT-APPT    319\n",
       "HGB          28\n",
       "患者登记号         0\n",
       "诊断内容          0\n",
       "入院时间          0\n",
       "dtype: int64"
      ]
     },
     "execution_count": 12,
     "metadata": {},
     "output_type": "execute_result"
    }
   ],
   "source": [
    "merged_df_1.isna().sum()"
   ]
  },
  {
   "cell_type": "code",
   "execution_count": 13,
   "id": "e7f93926ab04b035",
   "metadata": {
    "ExecuteTime": {
     "end_time": "2024-01-10T14:31:34.578887311Z",
     "start_time": "2024-01-10T14:31:34.573743604Z"
    },
    "collapsed": false
   },
   "outputs": [
    {
     "data": {
      "text/plain": [
       "诊断内容\n",
       "子宫平滑肌瘤        446\n",
       "子宫多发性平滑肌瘤     221\n",
       "子宫肌壁间平滑肌瘤      63\n",
       "子宫粘膜下平滑肌瘤      17\n",
       "子宫浆膜下平滑肌瘤      13\n",
       "子宫黏膜下平滑肌瘤       3\n",
       "子宫颈平滑肌瘤         1\n",
       "子宫颈粘膜下平滑肌瘤      1\n",
       "Name: count, dtype: int64"
      ]
     },
     "execution_count": 13,
     "metadata": {},
     "output_type": "execute_result"
    }
   ],
   "source": [
    "merged_df_1['诊断内容'].value_counts()"
   ]
  },
  {
   "cell_type": "code",
   "execution_count": 14,
   "id": "6fb40146d86e2651",
   "metadata": {
    "ExecuteTime": {
     "end_time": "2024-01-10T14:31:38.212994414Z",
     "start_time": "2024-01-10T14:31:38.165372789Z"
    },
    "collapsed": false
   },
   "outputs": [],
   "source": [
    "merged_df_1['诊断内容'].replace(['子宫浆膜下层平滑肌瘤','子宫黏膜下平滑肌瘤'],['子宫浆膜下平滑肌瘤','子宫粘膜下平滑肌瘤'],inplace=True)\n",
    "merged_df_1=merged_df_1[merged_df_1['诊断内容']!='妊娠合并子宫肌瘤'].copy()"
   ]
  },
  {
   "cell_type": "code",
   "execution_count": 15,
   "id": "2335662e57ccfb17",
   "metadata": {
    "ExecuteTime": {
     "end_time": "2024-01-10T14:31:40.000840746Z",
     "start_time": "2024-01-10T14:31:39.997250166Z"
    },
    "collapsed": false
   },
   "outputs": [
    {
     "data": {
      "text/plain": [
       "diagnose\n",
       "子宫平滑肌瘤        446\n",
       "子宫多发性平滑肌瘤     221\n",
       "子宫肌壁间平滑肌瘤      63\n",
       "子宫粘膜下平滑肌瘤      20\n",
       "子宫浆膜下平滑肌瘤      13\n",
       "子宫颈平滑肌瘤         1\n",
       "子宫颈粘膜下平滑肌瘤      1\n",
       "Name: count, dtype: int64"
      ]
     },
     "execution_count": 15,
     "metadata": {},
     "output_type": "execute_result"
    }
   ],
   "source": [
    "merged_df_1.rename({'诊断内容':'diagnose'},axis=1,inplace=True)\n",
    "merged_df_1['diagnose'].value_counts()"
   ]
  },
  {
   "cell_type": "code",
   "execution_count": 16,
   "id": "3597b67efe665fba",
   "metadata": {
    "ExecuteTime": {
     "end_time": "2024-01-10T14:31:41.992877700Z",
     "start_time": "2024-01-10T14:31:41.989882670Z"
    },
    "collapsed": false
   },
   "outputs": [
    {
     "name": "stdout",
     "output_type": "stream",
     "text": [
      "(765, 12)\n"
     ]
    },
    {
     "data": {
      "text/html": [
       "<div>\n",
       "<style scoped>\n",
       "    .dataframe tbody tr th:only-of-type {\n",
       "        vertical-align: middle;\n",
       "    }\n",
       "\n",
       "    .dataframe tbody tr th {\n",
       "        vertical-align: top;\n",
       "    }\n",
       "\n",
       "    .dataframe thead th {\n",
       "        text-align: right;\n",
       "    }\n",
       "</style>\n",
       "<table border=\"1\" class=\"dataframe\">\n",
       "  <thead>\n",
       "    <tr style=\"text-align: right;\">\n",
       "      <th></th>\n",
       "      <th>登记号</th>\n",
       "      <th>检验日期</th>\n",
       "      <th>CEA</th>\n",
       "      <th>CA125</th>\n",
       "      <th>HE4</th>\n",
       "      <th>SCC</th>\n",
       "      <th>AFP</th>\n",
       "      <th>PAT-APPT</th>\n",
       "      <th>HGB</th>\n",
       "      <th>患者登记号</th>\n",
       "      <th>diagnose</th>\n",
       "      <th>入院时间</th>\n",
       "    </tr>\n",
       "  </thead>\n",
       "  <tbody>\n",
       "    <tr>\n",
       "      <th>0</th>\n",
       "      <td>00032328</td>\n",
       "      <td>2019-04-01</td>\n",
       "      <td>0.4</td>\n",
       "      <td>18.6</td>\n",
       "      <td>NaN</td>\n",
       "      <td>1.80</td>\n",
       "      <td>NaN</td>\n",
       "      <td>NaN</td>\n",
       "      <td>110</td>\n",
       "      <td>00032328</td>\n",
       "      <td>子宫多发性平滑肌瘤</td>\n",
       "      <td>2019-05-29</td>\n",
       "    </tr>\n",
       "    <tr>\n",
       "      <th>1</th>\n",
       "      <td>00032328</td>\n",
       "      <td>2019-04-01</td>\n",
       "      <td>0.4</td>\n",
       "      <td>18.6</td>\n",
       "      <td>NaN</td>\n",
       "      <td>1.80</td>\n",
       "      <td>NaN</td>\n",
       "      <td>NaN</td>\n",
       "      <td>110</td>\n",
       "      <td>00032328</td>\n",
       "      <td>子宫多发性平滑肌瘤</td>\n",
       "      <td>2019-05-20</td>\n",
       "    </tr>\n",
       "    <tr>\n",
       "      <th>2</th>\n",
       "      <td>00032328</td>\n",
       "      <td>2019-09-04</td>\n",
       "      <td>0.4</td>\n",
       "      <td>12.2</td>\n",
       "      <td>NaN</td>\n",
       "      <td>1.00</td>\n",
       "      <td>NaN</td>\n",
       "      <td>NaN</td>\n",
       "      <td>133</td>\n",
       "      <td>00032328</td>\n",
       "      <td>子宫多发性平滑肌瘤</td>\n",
       "      <td>2019-05-29</td>\n",
       "    </tr>\n",
       "    <tr>\n",
       "      <th>3</th>\n",
       "      <td>00032328</td>\n",
       "      <td>2019-09-04</td>\n",
       "      <td>0.4</td>\n",
       "      <td>12.2</td>\n",
       "      <td>NaN</td>\n",
       "      <td>1.00</td>\n",
       "      <td>NaN</td>\n",
       "      <td>NaN</td>\n",
       "      <td>133</td>\n",
       "      <td>00032328</td>\n",
       "      <td>子宫多发性平滑肌瘤</td>\n",
       "      <td>2019-05-20</td>\n",
       "    </tr>\n",
       "    <tr>\n",
       "      <th>4</th>\n",
       "      <td>00057251</td>\n",
       "      <td>2020-12-14</td>\n",
       "      <td>0.4</td>\n",
       "      <td>27.0</td>\n",
       "      <td>31.1</td>\n",
       "      <td>1.00</td>\n",
       "      <td>1.0</td>\n",
       "      <td>NaN</td>\n",
       "      <td>NaN</td>\n",
       "      <td>00057251</td>\n",
       "      <td>子宫平滑肌瘤</td>\n",
       "      <td>2021-03-16</td>\n",
       "    </tr>\n",
       "  </tbody>\n",
       "</table>\n",
       "</div>"
      ],
      "text/plain": [
       "        登记号       检验日期  CEA  CA125   HE4   SCC  AFP PAT-APPT  HGB     患者登记号  \\\n",
       "0  00032328 2019-04-01  0.4   18.6   NaN  1.80  NaN      NaN  110  00032328   \n",
       "1  00032328 2019-04-01  0.4   18.6   NaN  1.80  NaN      NaN  110  00032328   \n",
       "2  00032328 2019-09-04  0.4   12.2   NaN  1.00  NaN      NaN  133  00032328   \n",
       "3  00032328 2019-09-04  0.4   12.2   NaN  1.00  NaN      NaN  133  00032328   \n",
       "4  00057251 2020-12-14  0.4   27.0  31.1  1.00  1.0      NaN  NaN  00057251   \n",
       "\n",
       "    diagnose       入院时间  \n",
       "0  子宫多发性平滑肌瘤 2019-05-29  \n",
       "1  子宫多发性平滑肌瘤 2019-05-20  \n",
       "2  子宫多发性平滑肌瘤 2019-05-29  \n",
       "3  子宫多发性平滑肌瘤 2019-05-20  \n",
       "4     子宫平滑肌瘤 2021-03-16  "
      ]
     },
     "execution_count": 16,
     "metadata": {},
     "output_type": "execute_result"
    }
   ],
   "source": [
    "print(merged_df_1.shape)\n",
    "merged_df_1.head()"
   ]
  },
  {
   "cell_type": "code",
   "execution_count": 17,
   "id": "19e03cd0031779a7",
   "metadata": {
    "ExecuteTime": {
     "end_time": "2024-01-10T14:31:44.802052739Z",
     "start_time": "2024-01-10T14:31:44.795317047Z"
    },
    "collapsed": false
   },
   "outputs": [],
   "source": [
    "merged_df_1.drop('患者登记号',inplace=True,axis=1)"
   ]
  },
  {
   "cell_type": "code",
   "execution_count": 18,
   "id": "436fd75e35291b75",
   "metadata": {
    "ExecuteTime": {
     "end_time": "2024-01-10T14:31:45.832902823Z",
     "start_time": "2024-01-10T14:31:45.830049776Z"
    },
    "collapsed": false
   },
   "outputs": [
    {
     "data": {
      "text/plain": [
       "diagnose\n",
       "子宫平滑肌瘤        446\n",
       "子宫多发性平滑肌瘤     221\n",
       "子宫肌壁间平滑肌瘤      63\n",
       "子宫粘膜下平滑肌瘤      20\n",
       "子宫浆膜下平滑肌瘤      13\n",
       "子宫颈平滑肌瘤         1\n",
       "子宫颈粘膜下平滑肌瘤      1\n",
       "Name: count, dtype: int64"
      ]
     },
     "execution_count": 18,
     "metadata": {},
     "output_type": "execute_result"
    }
   ],
   "source": [
    "merged_df_1['diagnose'].value_counts()"
   ]
  },
  {
   "cell_type": "code",
   "execution_count": 19,
   "id": "d138ccae4ead0654",
   "metadata": {
    "ExecuteTime": {
     "end_time": "2024-01-10T14:31:47.780426919Z",
     "start_time": "2024-01-10T14:31:47.774234545Z"
    },
    "collapsed": false
   },
   "outputs": [
    {
     "data": {
      "text/html": [
       "<div>\n",
       "<style scoped>\n",
       "    .dataframe tbody tr th:only-of-type {\n",
       "        vertical-align: middle;\n",
       "    }\n",
       "\n",
       "    .dataframe tbody tr th {\n",
       "        vertical-align: top;\n",
       "    }\n",
       "\n",
       "    .dataframe thead th {\n",
       "        text-align: right;\n",
       "    }\n",
       "</style>\n",
       "<table border=\"1\" class=\"dataframe\">\n",
       "  <thead>\n",
       "    <tr style=\"text-align: right;\">\n",
       "      <th></th>\n",
       "      <th>登记号</th>\n",
       "      <th>检验日期</th>\n",
       "      <th>CEA</th>\n",
       "      <th>CA125</th>\n",
       "      <th>HE4</th>\n",
       "      <th>SCC</th>\n",
       "      <th>AFP</th>\n",
       "      <th>PAT-APPT</th>\n",
       "      <th>HGB</th>\n",
       "      <th>diagnose</th>\n",
       "      <th>入院时间</th>\n",
       "    </tr>\n",
       "  </thead>\n",
       "  <tbody>\n",
       "    <tr>\n",
       "      <th>0</th>\n",
       "      <td>00032328</td>\n",
       "      <td>2019-04-01</td>\n",
       "      <td>0.4</td>\n",
       "      <td>18.6</td>\n",
       "      <td>NaN</td>\n",
       "      <td>1.80</td>\n",
       "      <td>NaN</td>\n",
       "      <td>NaN</td>\n",
       "      <td>110</td>\n",
       "      <td>子宫多发性平滑肌瘤</td>\n",
       "      <td>2019-05-29</td>\n",
       "    </tr>\n",
       "    <tr>\n",
       "      <th>1</th>\n",
       "      <td>00032328</td>\n",
       "      <td>2019-04-01</td>\n",
       "      <td>0.4</td>\n",
       "      <td>18.6</td>\n",
       "      <td>NaN</td>\n",
       "      <td>1.80</td>\n",
       "      <td>NaN</td>\n",
       "      <td>NaN</td>\n",
       "      <td>110</td>\n",
       "      <td>子宫多发性平滑肌瘤</td>\n",
       "      <td>2019-05-20</td>\n",
       "    </tr>\n",
       "    <tr>\n",
       "      <th>2</th>\n",
       "      <td>00032328</td>\n",
       "      <td>2019-09-04</td>\n",
       "      <td>0.4</td>\n",
       "      <td>12.2</td>\n",
       "      <td>NaN</td>\n",
       "      <td>1.00</td>\n",
       "      <td>NaN</td>\n",
       "      <td>NaN</td>\n",
       "      <td>133</td>\n",
       "      <td>子宫多发性平滑肌瘤</td>\n",
       "      <td>2019-05-29</td>\n",
       "    </tr>\n",
       "    <tr>\n",
       "      <th>3</th>\n",
       "      <td>00032328</td>\n",
       "      <td>2019-09-04</td>\n",
       "      <td>0.4</td>\n",
       "      <td>12.2</td>\n",
       "      <td>NaN</td>\n",
       "      <td>1.00</td>\n",
       "      <td>NaN</td>\n",
       "      <td>NaN</td>\n",
       "      <td>133</td>\n",
       "      <td>子宫多发性平滑肌瘤</td>\n",
       "      <td>2019-05-20</td>\n",
       "    </tr>\n",
       "    <tr>\n",
       "      <th>4</th>\n",
       "      <td>00057251</td>\n",
       "      <td>2020-12-14</td>\n",
       "      <td>0.4</td>\n",
       "      <td>27.0</td>\n",
       "      <td>31.1</td>\n",
       "      <td>1.00</td>\n",
       "      <td>1.0</td>\n",
       "      <td>NaN</td>\n",
       "      <td>NaN</td>\n",
       "      <td>子宫平滑肌瘤</td>\n",
       "      <td>2021-03-16</td>\n",
       "    </tr>\n",
       "  </tbody>\n",
       "</table>\n",
       "</div>"
      ],
      "text/plain": [
       "        登记号       检验日期  CEA  CA125   HE4   SCC  AFP PAT-APPT  HGB   diagnose  \\\n",
       "0  00032328 2019-04-01  0.4   18.6   NaN  1.80  NaN      NaN  110  子宫多发性平滑肌瘤   \n",
       "1  00032328 2019-04-01  0.4   18.6   NaN  1.80  NaN      NaN  110  子宫多发性平滑肌瘤   \n",
       "2  00032328 2019-09-04  0.4   12.2   NaN  1.00  NaN      NaN  133  子宫多发性平滑肌瘤   \n",
       "3  00032328 2019-09-04  0.4   12.2   NaN  1.00  NaN      NaN  133  子宫多发性平滑肌瘤   \n",
       "4  00057251 2020-12-14  0.4   27.0  31.1  1.00  1.0      NaN  NaN     子宫平滑肌瘤   \n",
       "\n",
       "        入院时间  \n",
       "0 2019-05-29  \n",
       "1 2019-05-20  \n",
       "2 2019-05-29  \n",
       "3 2019-05-20  \n",
       "4 2021-03-16  "
      ]
     },
     "execution_count": 19,
     "metadata": {},
     "output_type": "execute_result"
    }
   ],
   "source": [
    "# merged_df_1['diagnose'].replace(['子宫颈平滑肌瘤','子宫颈粘膜下平滑肌瘤'],['子宫平滑肌瘤','子宫粘膜下平滑肌瘤'],inplace=True)\n",
    "merged_df_1.head()"
   ]
  },
  {
   "cell_type": "code",
   "execution_count": 20,
   "id": "93ab0d2f2d044aee",
   "metadata": {
    "ExecuteTime": {
     "end_time": "2024-01-10T14:31:49.677358749Z",
     "start_time": "2024-01-10T14:31:49.667252347Z"
    },
    "collapsed": false
   },
   "outputs": [
    {
     "data": {
      "text/html": [
       "<div>\n",
       "<style scoped>\n",
       "    .dataframe tbody tr th:only-of-type {\n",
       "        vertical-align: middle;\n",
       "    }\n",
       "\n",
       "    .dataframe tbody tr th {\n",
       "        vertical-align: top;\n",
       "    }\n",
       "\n",
       "    .dataframe thead th {\n",
       "        text-align: right;\n",
       "    }\n",
       "</style>\n",
       "<table border=\"1\" class=\"dataframe\">\n",
       "  <thead>\n",
       "    <tr style=\"text-align: right;\">\n",
       "      <th></th>\n",
       "      <th>CEA</th>\n",
       "      <th>CA125</th>\n",
       "      <th>HE4</th>\n",
       "      <th>SCC</th>\n",
       "      <th>AFP</th>\n",
       "      <th>PAT-APPT</th>\n",
       "      <th>HGB</th>\n",
       "      <th>diagnose</th>\n",
       "    </tr>\n",
       "  </thead>\n",
       "  <tbody>\n",
       "    <tr>\n",
       "      <th>0</th>\n",
       "      <td>0.4</td>\n",
       "      <td>18.6</td>\n",
       "      <td>NaN</td>\n",
       "      <td>1.80</td>\n",
       "      <td>NaN</td>\n",
       "      <td>NaN</td>\n",
       "      <td>110</td>\n",
       "      <td>子宫多发性平滑肌瘤</td>\n",
       "    </tr>\n",
       "    <tr>\n",
       "      <th>1</th>\n",
       "      <td>0.4</td>\n",
       "      <td>18.6</td>\n",
       "      <td>NaN</td>\n",
       "      <td>1.80</td>\n",
       "      <td>NaN</td>\n",
       "      <td>NaN</td>\n",
       "      <td>110</td>\n",
       "      <td>子宫多发性平滑肌瘤</td>\n",
       "    </tr>\n",
       "    <tr>\n",
       "      <th>2</th>\n",
       "      <td>0.4</td>\n",
       "      <td>12.2</td>\n",
       "      <td>NaN</td>\n",
       "      <td>1.00</td>\n",
       "      <td>NaN</td>\n",
       "      <td>NaN</td>\n",
       "      <td>133</td>\n",
       "      <td>子宫多发性平滑肌瘤</td>\n",
       "    </tr>\n",
       "    <tr>\n",
       "      <th>3</th>\n",
       "      <td>0.4</td>\n",
       "      <td>12.2</td>\n",
       "      <td>NaN</td>\n",
       "      <td>1.00</td>\n",
       "      <td>NaN</td>\n",
       "      <td>NaN</td>\n",
       "      <td>133</td>\n",
       "      <td>子宫多发性平滑肌瘤</td>\n",
       "    </tr>\n",
       "    <tr>\n",
       "      <th>4</th>\n",
       "      <td>0.4</td>\n",
       "      <td>27.0</td>\n",
       "      <td>31.1</td>\n",
       "      <td>1.00</td>\n",
       "      <td>1.0</td>\n",
       "      <td>NaN</td>\n",
       "      <td>NaN</td>\n",
       "      <td>子宫平滑肌瘤</td>\n",
       "    </tr>\n",
       "  </tbody>\n",
       "</table>\n",
       "</div>"
      ],
      "text/plain": [
       "   CEA  CA125   HE4   SCC  AFP PAT-APPT  HGB   diagnose\n",
       "0  0.4   18.6   NaN  1.80  NaN      NaN  110  子宫多发性平滑肌瘤\n",
       "1  0.4   18.6   NaN  1.80  NaN      NaN  110  子宫多发性平滑肌瘤\n",
       "2  0.4   12.2   NaN  1.00  NaN      NaN  133  子宫多发性平滑肌瘤\n",
       "3  0.4   12.2   NaN  1.00  NaN      NaN  133  子宫多发性平滑肌瘤\n",
       "4  0.4   27.0  31.1  1.00  1.0      NaN  NaN     子宫平滑肌瘤"
      ]
     },
     "execution_count": 20,
     "metadata": {},
     "output_type": "execute_result"
    }
   ],
   "source": [
    "qq=merged_df_1.loc[:,'CEA':'diagnose']\n",
    "qq.head()"
   ]
  },
  {
   "cell_type": "code",
   "execution_count": 21,
   "id": "2d1c6269598ac4d5",
   "metadata": {
    "ExecuteTime": {
     "end_time": "2024-01-10T14:31:54.212729673Z",
     "start_time": "2024-01-10T14:31:54.088456552Z"
    },
    "collapsed": false
   },
   "outputs": [],
   "source": [
    "# 绘制热图\n",
    "import matplotlib.pyplot as plt"
   ]
  },
  {
   "cell_type": "code",
   "execution_count": 22,
   "id": "e4cbeccfba498c2b",
   "metadata": {
    "ExecuteTime": {
     "end_time": "2024-01-10T14:33:15.498192570Z",
     "start_time": "2024-01-10T14:33:15.323072844Z"
    },
    "collapsed": false
   },
   "outputs": [
    {
     "data": {
      "text/plain": [
       "([<matplotlib.axis.YTick at 0x7f1d52a465d0>,\n",
       "  <matplotlib.axis.YTick at 0x7f1d52a54910>,\n",
       "  <matplotlib.axis.YTick at 0x7f1d52a18fd0>,\n",
       "  <matplotlib.axis.YTick at 0x7f1d528a76d0>,\n",
       "  <matplotlib.axis.YTick at 0x7f1d528a0210>,\n",
       "  <matplotlib.axis.YTick at 0x7f1d528ae350>,\n",
       "  <matplotlib.axis.YTick at 0x7f1d528b4750>],\n",
       " [Text(0, 0, 'CEA'),\n",
       "  Text(0, 1, 'CA125'),\n",
       "  Text(0, 2, 'HE4'),\n",
       "  Text(0, 3, 'SCC'),\n",
       "  Text(0, 4, 'AFP'),\n",
       "  Text(0, 5, 'PAT-APPT'),\n",
       "  Text(0, 6, 'HGB')])"
      ]
     },
     "execution_count": 22,
     "metadata": {},
     "output_type": "execute_result"
    },
    {
     "name": "stderr",
     "output_type": "stream",
     "text": [
      "findfont: Generic family 'sans-serif' not found because none of the following families were found: /usr/share/fonts/truetype/kacst/KacstOffice.ttf\n",
      "findfont: Generic family 'sans-serif' not found because none of the following families were found: /usr/share/fonts/truetype/kacst/KacstOffice.ttf\n",
      "findfont: Generic family 'sans-serif' not found because none of the following families were found: /usr/share/fonts/truetype/kacst/KacstOffice.ttf\n",
      "findfont: Generic family 'sans-serif' not found because none of the following families were found: /usr/share/fonts/truetype/kacst/KacstOffice.ttf\n",
      "findfont: Generic family 'sans-serif' not found because none of the following families were found: /usr/share/fonts/truetype/kacst/KacstOffice.ttf\n",
      "findfont: Generic family 'sans-serif' not found because none of the following families were found: /usr/share/fonts/truetype/kacst/KacstOffice.ttf\n",
      "findfont: Generic family 'sans-serif' not found because none of the following families were found: /usr/share/fonts/truetype/kacst/KacstOffice.ttf\n",
      "findfont: Generic family 'sans-serif' not found because none of the following families were found: /usr/share/fonts/truetype/kacst/KacstOffice.ttf\n",
      "findfont: Generic family 'sans-serif' not found because none of the following families were found: /usr/share/fonts/truetype/kacst/KacstOffice.ttf\n",
      "findfont: Generic family 'sans-serif' not found because none of the following families were found: /usr/share/fonts/truetype/kacst/KacstOffice.ttf\n",
      "findfont: Generic family 'sans-serif' not found because none of the following families were found: /usr/share/fonts/truetype/kacst/KacstOffice.ttf\n",
      "findfont: Generic family 'sans-serif' not found because none of the following families were found: /usr/share/fonts/truetype/kacst/KacstOffice.ttf\n",
      "findfont: Generic family 'sans-serif' not found because none of the following families were found: /usr/share/fonts/truetype/kacst/KacstOffice.ttf\n",
      "findfont: Generic family 'sans-serif' not found because none of the following families were found: /usr/share/fonts/truetype/kacst/KacstOffice.ttf\n",
      "findfont: Generic family 'sans-serif' not found because none of the following families were found: /usr/share/fonts/truetype/kacst/KacstOffice.ttf\n",
      "findfont: Generic family 'sans-serif' not found because none of the following families were found: /usr/share/fonts/truetype/kacst/KacstOffice.ttf\n",
      "findfont: Generic family 'sans-serif' not found because none of the following families were found: /usr/share/fonts/truetype/kacst/KacstOffice.ttf\n",
      "findfont: Generic family 'sans-serif' not found because none of the following families were found: /usr/share/fonts/truetype/kacst/KacstOffice.ttf\n",
      "findfont: Generic family 'sans-serif' not found because none of the following families were found: /usr/share/fonts/truetype/kacst/KacstOffice.ttf\n",
      "findfont: Generic family 'sans-serif' not found because none of the following families were found: /usr/share/fonts/truetype/kacst/KacstOffice.ttf\n",
      "findfont: Generic family 'sans-serif' not found because none of the following families were found: /usr/share/fonts/truetype/kacst/KacstOffice.ttf\n",
      "findfont: Generic family 'sans-serif' not found because none of the following families were found: /usr/share/fonts/truetype/kacst/KacstOffice.ttf\n",
      "findfont: Generic family 'sans-serif' not found because none of the following families were found: /usr/share/fonts/truetype/kacst/KacstOffice.ttf\n",
      "findfont: Generic family 'sans-serif' not found because none of the following families were found: /usr/share/fonts/truetype/kacst/KacstOffice.ttf\n",
      "findfont: Generic family 'sans-serif' not found because none of the following families were found: /usr/share/fonts/truetype/kacst/KacstOffice.ttf\n",
      "findfont: Generic family 'sans-serif' not found because none of the following families were found: /usr/share/fonts/truetype/kacst/KacstOffice.ttf\n",
      "findfont: Generic family 'sans-serif' not found because none of the following families were found: /usr/share/fonts/truetype/kacst/KacstOffice.ttf\n",
      "findfont: Generic family 'sans-serif' not found because none of the following families were found: /usr/share/fonts/truetype/kacst/KacstOffice.ttf\n",
      "findfont: Generic family 'sans-serif' not found because none of the following families were found: /usr/share/fonts/truetype/kacst/KacstOffice.ttf\n",
      "findfont: Generic family 'sans-serif' not found because none of the following families were found: /usr/share/fonts/truetype/kacst/KacstOffice.ttf\n",
      "findfont: Generic family 'sans-serif' not found because none of the following families were found: /usr/share/fonts/truetype/kacst/KacstOffice.ttf\n",
      "findfont: Generic family 'sans-serif' not found because none of the following families were found: /usr/share/fonts/truetype/kacst/KacstOffice.ttf\n",
      "findfont: Generic family 'sans-serif' not found because none of the following families were found: /usr/share/fonts/truetype/kacst/KacstOffice.ttf\n",
      "findfont: Generic family 'sans-serif' not found because none of the following families were found: /usr/share/fonts/truetype/kacst/KacstOffice.ttf\n",
      "findfont: Generic family 'sans-serif' not found because none of the following families were found: /usr/share/fonts/truetype/kacst/KacstOffice.ttf\n",
      "findfont: Generic family 'sans-serif' not found because none of the following families were found: /usr/share/fonts/truetype/kacst/KacstOffice.ttf\n",
      "findfont: Generic family 'sans-serif' not found because none of the following families were found: /usr/share/fonts/truetype/kacst/KacstOffice.ttf\n",
      "findfont: Generic family 'sans-serif' not found because none of the following families were found: /usr/share/fonts/truetype/kacst/KacstOffice.ttf\n",
      "findfont: Generic family 'sans-serif' not found because none of the following families were found: /usr/share/fonts/truetype/kacst/KacstOffice.ttf\n",
      "findfont: Generic family 'sans-serif' not found because none of the following families were found: /usr/share/fonts/truetype/kacst/KacstOffice.ttf\n",
      "findfont: Generic family 'sans-serif' not found because none of the following families were found: /usr/share/fonts/truetype/kacst/KacstOffice.ttf\n",
      "findfont: Generic family 'sans-serif' not found because none of the following families were found: /usr/share/fonts/truetype/kacst/KacstOffice.ttf\n",
      "findfont: Generic family 'sans-serif' not found because none of the following families were found: /usr/share/fonts/truetype/kacst/KacstOffice.ttf\n",
      "findfont: Generic family 'sans-serif' not found because none of the following families were found: /usr/share/fonts/truetype/kacst/KacstOffice.ttf\n",
      "findfont: Generic family 'sans-serif' not found because none of the following families were found: /usr/share/fonts/truetype/kacst/KacstOffice.ttf\n",
      "findfont: Generic family 'sans-serif' not found because none of the following families were found: /usr/share/fonts/truetype/kacst/KacstOffice.ttf\n",
      "findfont: Generic family 'sans-serif' not found because none of the following families were found: /usr/share/fonts/truetype/kacst/KacstOffice.ttf\n",
      "findfont: Generic family 'sans-serif' not found because none of the following families were found: /usr/share/fonts/truetype/kacst/KacstOffice.ttf\n",
      "findfont: Generic family 'sans-serif' not found because none of the following families were found: /usr/share/fonts/truetype/kacst/KacstOffice.ttf\n",
      "findfont: Generic family 'sans-serif' not found because none of the following families were found: /usr/share/fonts/truetype/kacst/KacstOffice.ttf\n",
      "findfont: Generic family 'sans-serif' not found because none of the following families were found: /usr/share/fonts/truetype/kacst/KacstOffice.ttf\n",
      "findfont: Generic family 'sans-serif' not found because none of the following families were found: /usr/share/fonts/truetype/kacst/KacstOffice.ttf\n",
      "findfont: Generic family 'sans-serif' not found because none of the following families were found: /usr/share/fonts/truetype/kacst/KacstOffice.ttf\n",
      "findfont: Generic family 'sans-serif' not found because none of the following families were found: /usr/share/fonts/truetype/kacst/KacstOffice.ttf\n",
      "findfont: Generic family 'sans-serif' not found because none of the following families were found: /usr/share/fonts/truetype/kacst/KacstOffice.ttf\n",
      "findfont: Generic family 'sans-serif' not found because none of the following families were found: /usr/share/fonts/truetype/kacst/KacstOffice.ttf\n",
      "findfont: Generic family 'sans-serif' not found because none of the following families were found: /usr/share/fonts/truetype/kacst/KacstOffice.ttf\n",
      "findfont: Generic family 'sans-serif' not found because none of the following families were found: /usr/share/fonts/truetype/kacst/KacstOffice.ttf\n",
      "findfont: Generic family 'sans-serif' not found because none of the following families were found: /usr/share/fonts/truetype/kacst/KacstOffice.ttf\n",
      "findfont: Generic family 'sans-serif' not found because none of the following families were found: /usr/share/fonts/truetype/kacst/KacstOffice.ttf\n",
      "findfont: Generic family 'sans-serif' not found because none of the following families were found: /usr/share/fonts/truetype/kacst/KacstOffice.ttf\n",
      "findfont: Generic family 'sans-serif' not found because none of the following families were found: /usr/share/fonts/truetype/kacst/KacstOffice.ttf\n",
      "findfont: Generic family 'sans-serif' not found because none of the following families were found: /usr/share/fonts/truetype/kacst/KacstOffice.ttf\n",
      "findfont: Generic family 'sans-serif' not found because none of the following families were found: /usr/share/fonts/truetype/kacst/KacstOffice.ttf\n",
      "findfont: Generic family 'sans-serif' not found because none of the following families were found: /usr/share/fonts/truetype/kacst/KacstOffice.ttf\n",
      "findfont: Generic family 'sans-serif' not found because none of the following families were found: /usr/share/fonts/truetype/kacst/KacstOffice.ttf\n",
      "findfont: Generic family 'sans-serif' not found because none of the following families were found: /usr/share/fonts/truetype/kacst/KacstOffice.ttf\n",
      "findfont: Generic family 'sans-serif' not found because none of the following families were found: /usr/share/fonts/truetype/kacst/KacstOffice.ttf\n"
     ]
    },
    {
     "data": {
      "image/png": "[encoded data removed]",
      "text/plain": [
       "<Figure size 1800x1000 with 2 Axes>"
      ]
     },
     "metadata": {},
     "output_type": "display_data"
    }
   ],
   "source": [
    "plt.figure(figsize=(18, 10))\n",
    "plt.rcParams['font.sans-serif'] = ['/usr/share/fonts/truetype/kacst/KacstOffice.ttf']\n",
    "plt.imshow(merged_df_1.iloc[:,2:-2].corr(), cmap='YlGnBu')\n",
    "plt.colorbar()\n",
    "plt.xticks(range(len(merged_df_1.iloc[:,2:-2].columns)), merged_df_1.iloc[:,2:-2].columns, rotation=45)\n",
    "plt.yticks(range(len(merged_df_1.iloc[:,2:-2].columns)), merged_df_1.iloc[:,2:-2].columns)"
   ]
  },
  {
   "cell_type": "code",
   "execution_count": 23,
   "id": "7eacc974d98fea4f",
   "metadata": {
    "ExecuteTime": {
     "end_time": "2024-01-10T14:33:20.121926141Z",
     "start_time": "2024-01-10T14:33:19.728665582Z"
    },
    "collapsed": false
   },
   "outputs": [],
   "source": [
    "# 导包\n",
    "from sklearn.metrics import classification_report\n",
    "from sklearn.model_selection import train_test_split\n",
    "from sklearn.ensemble import RandomForestClassifier\n",
    "from sklearn.tree import DecisionTreeClassifier\n",
    "from sklearn.preprocessing import LabelEncoder\n",
    "from sklearn.impute import SimpleImputer\n",
    "from imblearn.over_sampling import BorderlineSMOTE\n",
    "from sklearn.preprocessing import StandardScaler"
   ]
  },
  {
   "cell_type": "code",
   "execution_count": 24,
   "id": "27926d542946e4f9",
   "metadata": {
    "ExecuteTime": {
     "end_time": "2024-01-10T14:33:21.620343591Z",
     "start_time": "2024-01-10T14:33:21.618844962Z"
    },
    "collapsed": false
   },
   "outputs": [
    {
     "name": "stdout",
     "output_type": "stream",
     "text": [
      "      CEA   CA125   HE4   SCC  AFP PAT-APPT  HGB\n",
      "0     0.4    18.6   NaN  1.80  NaN      NaN  110\n",
      "1     0.4    18.6   NaN  1.80  NaN      NaN  110\n",
      "2     0.4    12.2   NaN  1.00  NaN      NaN  133\n",
      "3     0.4    12.2   NaN  1.00  NaN      NaN  133\n",
      "4     0.4    27.0  31.1  1.00  1.0      NaN  NaN\n",
      "...   ...     ...   ...   ...  ...      ...  ...\n",
      "1155  1.8  1180.7  38.0   NaN  2.4      NaN   94\n",
      "1156  NaN    57.0  41.8   NaN  NaN     24.5  117\n",
      "1157  1.5    13.7   NaN  0.70  1.0     27.3  140\n",
      "1158  1.2    11.2  28.2   NaN  2.3      NaN  125\n",
      "1159  1.6    32.8  45.1   NaN  3.4      NaN  141\n",
      "\n",
      "[765 rows x 7 columns]\n"
     ]
    }
   ],
   "source": [
    "# 分类\n",
    "X=merged_df_1.iloc[:,2:\n",
    "                    # 'PAT-APPT'\n",
    "                    # 'AST'\n",
    "                    # 'TT'\n",
    "                    -2\n",
    "  ]\n",
    "print(X)\n",
    "Y=merged_df_1.iloc[:,-2]"
   ]
  },
  {
   "cell_type": "code",
   "execution_count": 25,
   "id": "127d9f918f623df6",
   "metadata": {
    "ExecuteTime": {
     "end_time": "2024-01-10T14:33:23.037937920Z",
     "start_time": "2024-01-10T14:33:23.030903832Z"
    },
    "collapsed": false
   },
   "outputs": [
    {
     "name": "stdout",
     "output_type": "stream",
     "text": [
      "[[-7.01301327e-01 -1.08069034e-01  0.00000000e+00 ...  0.00000000e+00\n",
      "   2.06931839e-15 -7.29596603e-01]\n",
      " [-7.01301327e-01 -1.08069034e-01  0.00000000e+00 ...  0.00000000e+00\n",
      "   2.06931839e-15 -7.29596603e-01]\n",
      " [-7.01301327e-01 -1.17488722e-01  0.00000000e+00 ...  0.00000000e+00\n",
      "   2.06931839e-15  6.22030940e-01]\n",
      " ...\n",
      " [ 1.08576425e+00 -1.15280983e-01  0.00000000e+00 ... -1.08237514e+00\n",
      "   8.74214405e-01  1.03339584e+00]\n",
      " [ 5.98382731e-01 -1.18960548e-01 -1.93226216e-01 ... -3.88609680e-01\n",
      "   2.06931839e-15  1.51899621e-01]\n",
      " [ 1.24822476e+00 -8.71691017e-02 -1.76874257e-01 ...  1.98422631e-01\n",
      "   2.06931839e-15  1.09216226e+00]]\n"
     ]
    }
   ],
   "source": [
    "label_encoder = LabelEncoder()\n",
    "# Y = label_encoder.fit_transform(Y)\n",
    "imputer=SimpleImputer(strategy='mean')\n",
    "X=imputer.fit_transform(X)\n",
    "# 标准化\n",
    "scaler = StandardScaler()\n",
    "X=scaler.fit_transform(X)\n",
    "# 划分数据集\n",
    "X_train,X_test,Y_train,Y_test=train_test_split(X,Y,test_size=0.3,random_state=20)\n",
    "smote = BorderlineSMOTE()\n",
    "print(X)\n",
    "# X_train.head(),X_train.shape,Y_test.shape,Y_test"
   ]
  },
  {
   "cell_type": "code",
   "execution_count": null,
   "id": "e13d2450938d8c6e",
   "metadata": {
    "ExecuteTime": {
     "end_time": "2024-01-10T08:39:21.496479603Z",
     "start_time": "2024-01-10T08:39:21.494310937Z"
    },
    "collapsed": false
   },
   "outputs": [],
   "source": []
  },
  {
   "cell_type": "markdown",
   "id": "ec276280c60adc38",
   "metadata": {
    "collapsed": false
   },
   "source": [
    "# 结论\n",
    "## 目前模型的准确率较低，只有65%左右。原因1：可能是原始数据中，肿瘤标志物数据较少，原因2：符合要求的数据太少\n",
    "- 原始数据中缺少`CA153 CA199`，有`CA125，SCC，HE4`检测记录的患者分别约45%，10%，6%\n",
    "- 最终筛选出的患者有765人，子宫肌瘤的诊断分为5类\n",
    "## 并不是所有的特征都放入模型中，模型的分类能力最强\n",
    "- `'CEA','CA125','HE4','SCC','AFP','PAT-APPT','HGB'`这7种组合是比较好的\n",
    "- 对比了随机森林，决策树，支持向量机，人工神经网络四种分类模型，随机森林的效果最好"
   ]
  },
  {
   "cell_type": "code",
   "execution_count": null,
   "id": "723b13d8515a0a22",
   "metadata": {
    "collapsed": false
   },
   "outputs": [],
   "source": []
  }
 ],
 "metadata": {
  "kernelspec": {
   "display_name": "Python 3 (ipykernel)",
   "language": "python",
   "name": "python3"
  },
  "language_info": {
   "codemirror_mode": {
    "name": "ipython",
    "version": 3
   },
   "file_extension": ".py",
   "mimetype": "text/x-python",
   "name": "python",
   "nbconvert_exporter": "python",
   "pygments_lexer": "ipython3",
   "version": "3.11.5"
  }
 },
 "nbformat": 4,
 "nbformat_minor": 5
}
